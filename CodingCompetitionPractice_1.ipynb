{
 "cells": [
  {
   "cell_type": "code",
   "execution_count": 7,
   "metadata": {},
   "outputs": [
    {
     "name": "stdout",
     "output_type": "stream",
     "text": [
      "Enter number which needs to be added: 56\n",
      "Enter 1 (or, any non-zero number) to continue or 0 to exit: 1\n",
      "\n",
      "\n",
      "Enter number which needs to be added: 45\n",
      "Enter 1 (or, any non-zero number) to continue or 0 to exit: f\n",
      "\n",
      " ****** oops! looks like you have entered a value which is not a number. Please enter only numbers!!! *****\n",
      "Enter number which needs to be added: 67\n",
      "Enter 1 (or, any non-zero number) to continue or 0 to exit: 1\n",
      "\n",
      "\n",
      "Enter number which needs to be added: t\n",
      "\n",
      " ****** oops! looks like you have entered a value which is not a number. Please enter only numbers!!! *****\n",
      "Enter number which needs to be added: 0\n",
      "Enter 1 (or, any non-zero number) to continue or 0 to exit: 0\n",
      "\n",
      "\n",
      "---***------***------***------***------***------***------***------***---\n",
      "Sum of numbers 56.0, 45.0, 67.0, 0.0, is: 168.0 \n",
      "\n",
      "---***------***------***------***------***------***------***------***---\n",
      "There are 5 numbers provided by user for addition\n",
      "---***------***------***------***------***------***------***------***---\n",
      "Numbers provided for addition are [56.0, 45.0, 67.0, 0.0]\n",
      "\n",
      "        ************The End****************           \n"
     ]
    }
   ],
   "source": [
    "# Program to add as many numbers as user wants\n",
    "list_of_numbers =[]\n",
    "entered_value = 1\n",
    "sum_of_numbers = 0\n",
    "count = 0\n",
    "\n",
    "while entered_value != 0 :\n",
    "    try:\n",
    "        num = float(input(\"Enter number which needs to be added: \"))\n",
    "        sum_of_numbers = sum_of_numbers + num\n",
    "        list_of_numbers.append(num)\n",
    "        entered_value = float(input(\"Enter 1 (or, any non-zero number) to continue or 0 to exit: \"))\n",
    "        print(\"\\n\")\n",
    "            \n",
    "    except:\n",
    "        print(\"\\n\",\"****** oops! looks like you have entered a value which is not a number. Please enter only numbers!!! *****\")\n",
    "    \n",
    "    count = count + 1\n",
    "    continue\n",
    "\n",
    "print(\"---***------***------***------***------***------***------***------***---\")   \n",
    "\n",
    "print(\"Sum of numbers\",end = \" \")\n",
    "for item in list_of_numbers:\n",
    "    print(item,end = \", \")\n",
    "print(\"is:\", sum_of_numbers,\"\\n\")\n",
    "\n",
    "print(\"---***------***------***------***------***------***------***------***---\") \n",
    "\n",
    "print(\"There are\",count, \"numbers provided by user for addition\")\n",
    "print(\"---***------***------***------***------***------***------***------***---\") \n",
    "\n",
    "print(\"Numbers provided for addition are\", list_of_numbers)\n",
    "\n",
    "print(\"\\n\",\"       ************The End****************           \")"
   ]
  },
  {
   "cell_type": "code",
   "execution_count": 9,
   "metadata": {},
   "outputs": [
    {
     "data": {
      "text/plain": [
       "[5.0, 4.0, 2.0, 5.0]"
      ]
     },
     "execution_count": 9,
     "metadata": {},
     "output_type": "execute_result"
    }
   ],
   "source": [
    "list_of_numbers"
   ]
  },
  {
   "cell_type": "code",
   "execution_count": 10,
   "metadata": {},
   "outputs": [
    {
     "data": {
      "text/plain": [
       "5.0"
      ]
     },
     "execution_count": 10,
     "metadata": {},
     "output_type": "execute_result"
    }
   ],
   "source": [
    "max(list_of_numbers)"
   ]
  },
  {
   "cell_type": "code",
   "execution_count": 11,
   "metadata": {},
   "outputs": [
    {
     "data": {
      "text/plain": [
       "2.0"
      ]
     },
     "execution_count": 11,
     "metadata": {},
     "output_type": "execute_result"
    }
   ],
   "source": [
    "min(list_of_numbers)"
   ]
  },
  {
   "cell_type": "code",
   "execution_count": 15,
   "metadata": {},
   "outputs": [
    {
     "data": {
      "text/plain": [
       "4"
      ]
     },
     "execution_count": 15,
     "metadata": {},
     "output_type": "execute_result"
    }
   ],
   "source": [
    "len(list_of_numbers)"
   ]
  },
  {
   "cell_type": "code",
   "execution_count": 20,
   "metadata": {},
   "outputs": [
    {
     "data": {
      "text/plain": [
       "4.0"
      ]
     },
     "execution_count": 20,
     "metadata": {},
     "output_type": "execute_result"
    }
   ],
   "source": [
    "from numpy import mean\n",
    "mean(list_of_numbers)"
   ]
  },
  {
   "cell_type": "code",
   "execution_count": 21,
   "metadata": {},
   "outputs": [
    {
     "data": {
      "text/plain": [
       "16.0"
      ]
     },
     "execution_count": 21,
     "metadata": {},
     "output_type": "execute_result"
    }
   ],
   "source": [
    "sum(list_of_numbers)"
   ]
  },
  {
   "cell_type": "code",
   "execution_count": 22,
   "metadata": {},
   "outputs": [
    {
     "data": {
      "text/plain": [
       "'[5.0, 4.0, 2.0, 5.0]'"
      ]
     },
     "execution_count": 22,
     "metadata": {},
     "output_type": "execute_result"
    }
   ],
   "source": [
    "str(list_of_numbers)"
   ]
  },
  {
   "cell_type": "code",
   "execution_count": 28,
   "metadata": {},
   "outputs": [
    {
     "name": "stdout",
     "output_type": "stream",
     "text": [
      "Enter First number34\n",
      "Enter Second numberf\n",
      "Enter numbers only !!\n"
     ]
    }
   ],
   "source": [
    "# Python Program to Add reverse of two Numbers\n",
    "try:\n",
    "    number1 = float(input(\"Enter First number\"))\n",
    "    number2 = float(input(\"Enter Second number\"))\n",
    "    real_numbers = [number1, number2]\n",
    "    reversed_numbers =[]\n",
    "except:\n",
    "    print(\"Enter numbers only !!\")\n",
    "\n",
    "#for item in real_numbers:\n",
    "    \n"
   ]
  },
  {
   "cell_type": "code",
   "execution_count": 1,
   "metadata": {
    "scrolled": true
   },
   "outputs": [
    {
     "name": "stdout",
     "output_type": "stream",
     "text": [
      "dlroW olleH\n"
     ]
    }
   ],
   "source": [
    "txt = \"Hello World\"[::-1]\n",
    "print(txt)"
   ]
  },
  {
   "cell_type": "code",
   "execution_count": 7,
   "metadata": {},
   "outputs": [
    {
     "name": "stdout",
     "output_type": "stream",
     "text": [
      "Enter first number: 56\n",
      "Enter second number: 67\n",
      "\n",
      "\n",
      "Reverse of 56 is:  65\n",
      "Reverse of 67 is:  76\n",
      "\n",
      "\n",
      "sum of reverse of numbers provided is: 141.0\n"
     ]
    }
   ],
   "source": [
    "# Python Program to Add reverse of two Numbers\n",
    "try:\n",
    "    number_1 = int(input(\"Enter first number: \"))\n",
    "    number_2 = int(input(\"Enter second number: \"))\n",
    "    \n",
    "    reversed_number_1 = str(number_1)[::-1]\n",
    "    reversed_number_2 = str(number_2)[::-1]\n",
    "    \n",
    "    print(\"\\n\")\n",
    "    print(\"Reverse of\", number_1, \"is: \", reversed_number_1)\n",
    "    print(\"Reverse of\", number_2, \"is: \", reversed_number_2)\n",
    "\n",
    "    sum_of_reversed_numbers = int(reversed_number_1) + float(reversed_number_2)\n",
    "    print(\"\\n\")\n",
    "    print(\"sum of reverse of numbers provided is:\", sum_of_reversed_numbers)\n",
    "\n",
    "except:\n",
    "    print(\"\\n\",\"Please enter only integer value!!!\")\n",
    "\n"
   ]
  },
  {
   "cell_type": "code",
   "execution_count": 8,
   "metadata": {},
   "outputs": [
    {
     "name": "stdout",
     "output_type": "stream",
     "text": [
      "Enter first number: 45.56\n",
      "Enter second number: 56.78\n",
      "\n",
      "\n",
      "Reverse of 45.56 is:  65.54\n",
      "Reverse of 56.78 is:  87.65\n",
      "\n",
      "\n",
      "sum of reverse of numbers provided is: 153.19\n"
     ]
    }
   ],
   "source": [
    "# Python Program to Add reverse of two Numbers including decimal numbers\n",
    "try:\n",
    "    number_1 = float(input(\"Enter first number: \"))\n",
    "    number_2 = float(input(\"Enter second number: \"))\n",
    "    \n",
    "    reversed_number_1 = str(number_1)[::-1]\n",
    "    reversed_number_2 = str(number_2)[::-1]\n",
    "    \n",
    "    print(\"\\n\")\n",
    "    print(\"Reverse of\", number_1, \"is: \", reversed_number_1)\n",
    "    print(\"Reverse of\", number_2, \"is: \", reversed_number_2)\n",
    "\n",
    "    sum_of_reversed_numbers = float(reversed_number_1) + float(reversed_number_2)\n",
    "    print(\"\\n\")\n",
    "    print(\"sum of reverse of numbers provided is:\", sum_of_reversed_numbers)\n",
    "\n",
    "except:\n",
    "    print(\"\\n\",\"Please enter only integer value!!!\")\n"
   ]
  },
  {
   "cell_type": "code",
   "execution_count": 15,
   "metadata": {},
   "outputs": [
    {
     "name": "stdout",
     "output_type": "stream",
     "text": [
      "Enter string which needs to be reverted: my name is khan\n",
      "Reversed string is:  nahk si eman ym\n"
     ]
    }
   ],
   "source": [
    "# Reverse a sequence of string\n",
    "y = input(\"Enter string which needs to be reverted: \")\n",
    "\n",
    "def string(x):\n",
    "    return x[::-1]\n",
    "\n",
    "reversed_string = string(y)\n",
    "\n",
    "print(\"Reversed string is: \",reversed_string )"
   ]
  },
  {
   "cell_type": "code",
   "execution_count": 22,
   "metadata": {},
   "outputs": [
    {
     "name": "stdout",
     "output_type": "stream",
     "text": [
      "Enter string which needs to be reverted: my name is khan\n",
      "\n",
      " Reversed string is:  nahk si eman ym\n"
     ]
    }
   ],
   "source": [
    "# Reverse a sequence of string using loop\n",
    "y = input(\"Enter string which needs to be reverted: \")\n",
    "\n",
    "def string(x):\n",
    "    r_str = ''\n",
    "    for char in x:\n",
    "        r_str = char + r_str\n",
    "    return r_str\n",
    "\n",
    "reversed_str = string(y)\n",
    "\n",
    "print(\"\\n\", \"Reversed string is: \",reversed_str )"
   ]
  },
  {
   "cell_type": "code",
   "execution_count": 11,
   "metadata": {},
   "outputs": [
    {
     "name": "stdout",
     "output_type": "stream",
     "text": [
      "Enter string: hima\n",
      "\n",
      "\n",
      "Original string is:  hima\n",
      "Reversed of given string is:  amih\n"
     ]
    }
   ],
   "source": [
    "# Reverse a sequence of string using reversed method\n",
    "string = input(\"Enter string: \")\n",
    "\n",
    "print(\"\\n\")\n",
    "print(\"Original string is: \", string)\n",
    "\n",
    "reversed_string = ''.join(reversed(string))\n",
    "print(\"Reversed of given string is: \",reversed_string)"
   ]
  },
  {
   "cell_type": "code",
   "execution_count": null,
   "metadata": {},
   "outputs": [],
   "source": [
    "loop_number = 1\n",
    "reversed_number_list = []\n",
    "sum_of_reversed_number = 0\n",
    "try:\n",
    "    while loop_number != 0 :\n",
    "        try:\n",
    "            entered_number = input(\"Enter number which needs to be added after reversing it: \")\n",
    "        except ValueError :\n",
    "            print(\"Enter ony integers !!\")\n",
    "        continue\n",
    "            \n",
    "        reversed_number = entered_number[::-1]\n",
    "        sum_of_reversed_number = sum_of_reversed_number + int(reversed_number)\n",
    "        \n",
    "        try:\n",
    "            loop_number = int(input(\"Enter 1 to continue or 0 to exit: \"))\n",
    "        except ValueError :\n",
    "            print(\"Enter ony integers !!\")\n",
    "        continue\n",
    "        \n",
    "    print(\"sum of reversed of all given number is: \", sum_of_reversed_number)\n",
    "except ValueError :\n",
    "    print(\"Enter ony integers !!\")\n",
    "    \n",
    "\n",
    "\n"
   ]
  },
  {
   "cell_type": "code",
   "execution_count": 9,
   "metadata": {},
   "outputs": [
    {
     "name": "stdout",
     "output_type": "stream",
     "text": [
      "Enter number which needs to be added after reversing it: 87\n",
      "Enter 1 to continue or 0 to exit: 1\n",
      "Enter number which needs to be added after reversing it: 34\n",
      "Enter 1 to continue or 0 to exit: f\n",
      "Enter ony integers !!\n",
      "Enter number which needs to be added after reversing it: 87\n",
      "Enter 1 to continue or 0 to exit: 1\n",
      "Enter number which needs to be added after reversing it: g\n",
      "Enter ony integers !!\n",
      "Enter number which needs to be added after reversing it: 89\n",
      "Enter 1 to continue or 0 to exit: 0\n",
      "---***------***------***------***------***------***------***------***---\n",
      "\n",
      "\n",
      "sum of reversed of all given number is:  297\n",
      "\n",
      "        ************The End****************           \n"
     ]
    }
   ],
   "source": [
    "# Program to add reverse of as many numbers as user wants\n",
    "loop_number = 1\n",
    "reversed_number_list = []\n",
    "sum_of_reversed_number = 0\n",
    "\n",
    "while loop_number != 0 :\n",
    "    try:\n",
    "        entered_number = input(\"Enter number which needs to be added after reversing it: \")\n",
    "            \n",
    "        reversed_number = entered_number[::-1]\n",
    "        sum_of_reversed_number = sum_of_reversed_number + int(reversed_number)\n",
    "        \n",
    "        loop_number = int(input(\"Enter 1 to continue or 0 to exit: \"))\n",
    "    except ValueError :\n",
    "        print(\"Enter ony integers !!\")\n",
    "    continue\n",
    "\n",
    "print(\"---***------***------***------***------***------***------***------***---\") \n",
    "print(\"\\n\") \n",
    "\n",
    "print(\"sum of reversed of all given number is: \", sum_of_reversed_number)\n",
    "print(\"\\n\",\"       ************The End****************           \")"
   ]
  },
  {
   "cell_type": "code",
   "execution_count": 18,
   "metadata": {},
   "outputs": [
    {
     "name": "stdout",
     "output_type": "stream",
     "text": [
      "Enter number: 98\n",
      "Enter 1 to continue providing numbers or 0 to exit: 1\n",
      "Enter number: 34\n",
      "Enter 1 to continue providing numbers or 0 to exit: 0\n",
      "---***------***------***------***------***------***------***------***---\n",
      "\n",
      "\n",
      "Sum of remainder of numbers provided are:  12\n",
      "\n",
      "        ************The End****************           \n"
     ]
    }
   ],
   "source": [
    "# program to find remainder of each number input by user and find sum of all remainders\n",
    "\n",
    "sum_of_remainders = 0\n",
    "loop_value = 1\n",
    "\n",
    "while loop_value != 0 :\n",
    "    try:\n",
    "        number = input(\"Enter number: \")\n",
    "        remainder = int(number) % 10\n",
    "        sum_of_remainders = sum_of_remainders + remainder\n",
    "        \n",
    "        loop_value = int(input(\"Enter 1 to continue providing numbers or 0 to exit: \"))\n",
    "    except:\n",
    "        print(\"Enter integer numbers only !!\")\n",
    "    continue\n",
    "\n",
    "print(\"---***------***------***------***------***------***------***------***---\") \n",
    "print(\"\\n\") \n",
    "\n",
    "print(\"Sum of remainder of numbers provided are: \", sum_of_remainders)\n",
    "\n",
    "print(\"\\n\",\"       ************The End****************           \")\n",
    "                         \n",
    "        "
   ]
  },
  {
   "cell_type": "code",
   "execution_count": 19,
   "metadata": {},
   "outputs": [
    {
     "name": "stdout",
     "output_type": "stream",
     "text": [
      "Enter number: 987\n",
      "Enter 1 to continue or 0 to exit: 1\n",
      "Enter number: 56\n",
      "Enter 1 to continue or 0 to exit: d\n",
      "invalid literal for int() with base 10: 'd'\n",
      "Enter number: 45\n",
      "Enter 1 to continue or 0 to exit: 1\n",
      "Enter number: s\n",
      "invalid literal for int() with base 10: 's'\n",
      "Enter number: 34\n",
      "Enter 1 to continue or 0 to exit: 0\n",
      "digitwise sum of numbers is:  51\n"
     ]
    }
   ],
   "source": [
    "# program to find digitwise sum of numbers input by user..user can provide as many numbers as he wants and it can be of any length. Ex: numbers 123 and 456 are provided by user then sum will be 21\n",
    "loop_value = 1\n",
    "digitwise_sum = 0\n",
    "while loop_value != 0 :\n",
    "    try:\n",
    "        number = input(\"Enter number: \")\n",
    "        \n",
    "        for character in number:\n",
    "            digitwise_sum = digitwise_sum + int(character)\n",
    "        \n",
    "        loop_value = int(input(\"Enter 1 to continue or 0 to exit: \"))\n",
    "    except ValueError as err:\n",
    "        print(err)\n",
    "    continue\n",
    "    \n",
    "print(\"digitwise sum of numbers is: \",digitwise_sum)\n",
    "    \n",
    "            \n"
   ]
  },
  {
   "cell_type": "code",
   "execution_count": 22,
   "metadata": {},
   "outputs": [
    {
     "name": "stdout",
     "output_type": "stream",
     "text": [
      "Enter number: 987\n",
      "8\n",
      "Enter 1 to continue or 0 to exit: 1\n",
      "Enter number: 345\n",
      "4\n",
      "Enter 1 to continue or 0 to exit: d\n",
      "invalid literal for int() with base 10: 'd'\n",
      "Enter number: g\n",
      "invalid literal for int() with base 10: 'g'\n",
      "Enter number: 123\n",
      "2\n",
      "Enter 1 to continue or 0 to exit: 0\n",
      "digitwise sum of numbers is:  14\n"
     ]
    }
   ],
   "source": [
    "# program to find sum of tenth of each numbers input by user..any numbers user can provide and it can be any any length\n",
    "\n",
    "loop_value = 1\n",
    "tenth_digit_sum = 0\n",
    "\n",
    "while loop_value != 0 :\n",
    "    try:\n",
    "        number = input(\"Enter number: \")\n",
    "        \n",
    "        unit = int(int(number) / 10)\n",
    "        tenth = unit % 10\n",
    "        \n",
    "        tenth_digit_sum = tenth_digit_sum + tenth\n",
    "        \n",
    "        loop_value = int(input(\"Enter 1 to continue or 0 to exit: \"))\n",
    "    except ValueError as err:\n",
    "        print(err)\n",
    "    continue\n",
    "    \n",
    "print(\"digitwise sum of numbers is: \",tenth_digit_sum)\n",
    "    \n",
    "            \n"
   ]
  },
  {
   "cell_type": "code",
   "execution_count": 44,
   "metadata": {},
   "outputs": [
    {
     "name": "stdout",
     "output_type": "stream",
     "text": [
      "Enter number: 64\n",
      "The square root of 64.000 is 8.000\n"
     ]
    }
   ],
   "source": [
    "# Python Program to Find the Square Root\n",
    "import numpy as np\n",
    "number = int(input(\"Enter number: \"))\n",
    "sqrt = np.sqrt(number)\n",
    "print(\"The square root of {0:0.3f} is {1:0.3f}\".format(number ,sqrt))"
   ]
  },
  {
   "cell_type": "code",
   "execution_count": 2,
   "metadata": {},
   "outputs": [
    {
     "name": "stdout",
     "output_type": "stream",
     "text": [
      "Enter number: 9\n",
      "The square root of 9.000 is 3.000\n"
     ]
    }
   ],
   "source": [
    "# Python Program to Find the Square Root\n",
    "\n",
    "number = float(input(\"Enter number: \"))\n",
    "sqrt = number ** 0.5\n",
    "\n",
    "# print('The square root of %0.3f is %0.3f'%(number ,sqrt))\n",
    "print(\"The square root of {0:0.3f} is {1:0.3f}\".format(number ,sqrt))"
   ]
  },
  {
   "cell_type": "code",
   "execution_count": 17,
   "metadata": {},
   "outputs": [
    {
     "name": "stdout",
     "output_type": "stream",
     "text": [
      "Enter number:3+4j\n",
      "Square root of (3+4j) is 2.000 + 1.000j\n"
     ]
    }
   ],
   "source": [
    "# Find the square root of real or complex number\n",
    "\n",
    "num = eval(input(\"Enter number:\"))\n",
    "\n",
    "sqrt_num = cmath.sqrt(num)\n",
    "\n",
    "print(\"Square root of {0} is {1:0.3f} + {2:0.3f}j\".format(num,sqrt_num.real,sqrt_num.imag))"
   ]
  },
  {
   "cell_type": "code",
   "execution_count": 4,
   "metadata": {},
   "outputs": [
    {
     "name": "stdout",
     "output_type": "stream",
     "text": [
      "Enter number: 0\n",
      "0 is not a prime number !!\n"
     ]
    }
   ],
   "source": [
    "# Python Program to Check whether a given number is Prime or not using for else\n",
    "\n",
    "#get number\n",
    "num = int(input(\"Enter number: \"))\n",
    "\n",
    "# prime numbers are greater than 1\n",
    "if num > 1:\n",
    "    # Check for factors\n",
    "    for i in range(2,num):\n",
    "        if num % i == 0:\n",
    "            print(num,\"is not a prime number !!\")\n",
    "            print(i,\"times\",num/i, \"is\",num)\n",
    "            break\n",
    "    else:\n",
    "            print(num,\"is a prime number !!\")\n",
    "\n",
    "# if input is less than 1 or eqal to 1, its not a prime \n",
    "else:\n",
    "    print(num,\"is not a prime number !!\")    \n",
    "        \n",
    "\n"
   ]
  },
  {
   "cell_type": "code",
   "execution_count": 15,
   "metadata": {},
   "outputs": [
    {
     "name": "stdout",
     "output_type": "stream",
     "text": [
      "General form of a quadratic equation is: \n",
      "ax*x + bx + c = 0\n",
      "Enter the value a of the quadratic equation: 1\n",
      "Enter the value b of the quadratic equation: 2\n",
      "Enter the value c of the quadratic equation: 3\n",
      "Given quadratic equation is: \n",
      "1 x*x + 2 x + 3 = 0\n",
      "\n",
      " After solving the quadratic equation, we get the following roots: \n",
      " Root 1 =  (-1+1.4142135623730951j) \n",
      " Root 2 =  (-1-1.4142135623730951j)\n"
     ]
    }
   ],
   "source": [
    "# Python Program to Solve Quadratic Equation\n",
    "import numpy as np\n",
    "import cmath\n",
    "print(\"General form of a quadratic equation is: \")\n",
    "print(\"ax*x + bx + c = 0\")\n",
    "\n",
    "a = int(input(\"Enter the value a of the quadratic equation: \"))\n",
    "b = int(input(\"Enter the value b of the quadratic equation: \"))\n",
    "c = int(input(\"Enter the value c of the quadratic equation: \"))\n",
    "\n",
    "d = b*b - 4*a*c\n",
    "\n",
    "root1 = (-b + cmath.sqrt(d))/2*a\n",
    "root2 = (-b - cmath.sqrt(d))/2*a\n",
    "\n",
    "print(\"Given quadratic equation is: \")\n",
    "print(a,\"x*x\",\"+\",b,\"x\", \"+\" ,c,\"= 0\")\n",
    "\n",
    "print(\"\\n\",\"After solving the quadratic equation, we get the following roots:\", \"\\n\",\"Root 1 = \",root1,'\\n',\"Root 2 = \", root2)"
   ]
  },
  {
   "cell_type": "code",
   "execution_count": 8,
   "metadata": {},
   "outputs": [
    {
     "data": {
      "text/plain": [
       "2.0"
      ]
     },
     "execution_count": 8,
     "metadata": {},
     "output_type": "execute_result"
    }
   ],
   "source": [
    "import numpy as np\n",
    "\n",
    "np.sqrt(4)"
   ]
  },
  {
   "cell_type": "code",
   "execution_count": 52,
   "metadata": {},
   "outputs": [
    {
     "name": "stdout",
     "output_type": "stream",
     "text": [
      "Enter numbber: 1234567890\n",
      "1234567890 is not a armstrong number\n"
     ]
    }
   ],
   "source": [
    "# Python Program to Check Armstrong Number\n",
    "\n",
    "try:\n",
    "    num = int(input(\"Enter numbber: \"))\n",
    "\n",
    "    if num >= 0:\n",
    "        # To check how many digits have the given number\n",
    "        sum = 0\n",
    "        count = 0\n",
    "        temp_num = num\n",
    "        while temp_num != 0:\n",
    "            count = count + 1\n",
    "            temp_num = int(temp_num/10)\n",
    "\n",
    "        # Find sum as per armstrong number rule\n",
    "        temp_num = num\n",
    "        for i in range(count):\n",
    "            rem = temp_num % 10\n",
    "            temp_num = int(temp_num/10)\n",
    "            sum = sum + (rem ** count)\n",
    "\n",
    "\n",
    "        if sum == num:\n",
    "            print(\"{0} is a armstrong number\".format(num))\n",
    "        else:\n",
    "            print(\"{0} is not a armstrong number\".format(num))\n",
    "    else:\n",
    "        print(\"Please provide only positive number !!\")\n",
    "\n",
    "except ValueError as err:\n",
    "    print(err)\n",
    "    print(\"Please enter only positive numbers !!\")\n",
    "    \n",
    "    "
   ]
  },
  {
   "cell_type": "code",
   "execution_count": 126,
   "metadata": {},
   "outputs": [
    {
     "name": "stdout",
     "output_type": "stream",
     "text": [
      "Enter lower limit: r\n",
      "invalid literal for int() with base 10: 'r'\n",
      "Please enter only positive numbers !!\n"
     ]
    }
   ],
   "source": [
    "# Python Program to Find Armstrong Number in an Interval\n",
    "\n",
    "try:\n",
    "    # get the lower and upper limit\n",
    "    lower = int(input(\"Enter lower limit: \"))\n",
    "    upper = int(input(\"Enter upper limit: \"))\n",
    "\n",
    "    num = lower\n",
    "\n",
    "    list_armstrong = []\n",
    "\n",
    "    # Check if any lower or upper limit is positive then continue otherwise go to else part \n",
    "    if num >= 0 or upper >=0 :\n",
    "\n",
    "        # Lower value should always be less than upper value\n",
    "        while num <= upper :\n",
    "            \n",
    "            sum = 0\n",
    "            count = 0\n",
    "            temp_num = num\n",
    "            \n",
    "            # To check how many digits have the given number\n",
    "            while temp_num != 0:\n",
    "                count = count + 1\n",
    "                temp_num = int(temp_num/10)\n",
    "\n",
    "            # Find sum as per armstrong number rule\n",
    "            temp_num = num\n",
    "            for i in range(count):\n",
    "                rem = temp_num % 10\n",
    "                temp_num = int(temp_num/10)\n",
    "                sum = sum + (rem ** count)\n",
    "\n",
    "\n",
    "            if sum == num:\n",
    "                list_armstrong.append(num)                \n",
    "            \n",
    "            num = num + 1\n",
    "        \n",
    "        print(\"Armstrong number between\",lower,\"and\",upper,\" is: \",str(list_armstrong)[1:-1] )  \n",
    "\n",
    "    elif num < 0 or upper < 0 :\n",
    "        print(\"Please provide only positive number !!\")\n",
    "        \n",
    "\n",
    "except ValueError as err:\n",
    "    print(err)\n",
    "    print(\"Please enter only positive numbers !!\")"
   ]
  },
  {
   "cell_type": "code",
   "execution_count": 129,
   "metadata": {},
   "outputs": [
    {
     "name": "stdout",
     "output_type": "stream",
     "text": [
      "Enter first string: str\n",
      "Enter second string: dfert\n",
      "string str and dfert are not anagram !!\n"
     ]
    }
   ],
   "source": [
    "# Python Program to Check If Two Strings are Anagram\n",
    "\n",
    "str1 = input(\"Enter first string: \")\n",
    "str2 = input(\"Enter second string: \")\n",
    "\n",
    "if len(str1) == len(str2):\n",
    "    sorted_str1 = sorted(str1)\n",
    "    sorted_str2 = sorted(str2)\n",
    "    \n",
    "    if sorted_str1 == sorted_str2:\n",
    "        print(\"string {0} and {1} are anagram !!\".format(str1,str2))\n",
    "    else:\n",
    "        print(\"string {0} and {1} are not anagram !!\".format(str1,str2))\n",
    "else:\n",
    "    print(\"string {0} and {1} are not anagram !!\".format(str1,str2))"
   ]
  },
  {
   "cell_type": "code",
   "execution_count": 137,
   "metadata": {},
   "outputs": [
    {
     "name": "stdout",
     "output_type": "stream",
     "text": [
      "Enter year: 21\n",
      "Enter month: 5\n",
      "       May 21\n",
      "Mo Tu We Th Fr Sa Su\n",
      "                1  2\n",
      " 3  4  5  6  7  8  9\n",
      "10 11 12 13 14 15 16\n",
      "17 18 19 20 21 22 23\n",
      "24 25 26 27 28 29 30\n",
      "31\n",
      "\n"
     ]
    }
   ],
   "source": [
    "# Python Program to Display Calendar\n",
    "\n",
    "import calendar\n",
    "\n",
    "year = int(input(\"Enter year: \"))\n",
    "month = int(input(\"Enter month: \"))\n",
    "\n",
    "print(calendar.month(year,month))\n"
   ]
  },
  {
   "cell_type": "code",
   "execution_count": 5,
   "metadata": {},
   "outputs": [
    {
     "name": "stdout",
     "output_type": "stream",
     "text": [
      "Enter number of rows for inverted pyramid: 5\n",
      "* * * *  \n",
      "* * *    \n",
      "* *      \n",
      "*        \n",
      "         \n"
     ]
    }
   ],
   "source": [
    "# Inverted full pyramid of *\n",
    "\n",
    "rows = int(input(\"Enter number of rows for inverted pyramid: \"))\n",
    "k=0\n",
    "for i in range(1, rows + 1):\n",
    "    for non_space in range(1, (rows - i) + 1):\n",
    "        print(\"* \", end = \"\")\n",
    "    \n",
    "    while k!= (2*i-1):\n",
    "        print(end = \" \")\n",
    "        k += 1\n",
    "    k = 0\n",
    "    print()\n",
    "        "
   ]
  },
  {
   "cell_type": "code",
   "execution_count": 13,
   "metadata": {},
   "outputs": [
    {
     "name": "stdout",
     "output_type": "stream",
     "text": [
      "Enter number of rows for Floyd's triangle: 5\n",
      "1 \n",
      "\n",
      "2 3 \n",
      "\n",
      "4 5 6 \n",
      "\n",
      "7 8 9 10 \n",
      "\n",
      "11 12 13 14 15 \n",
      "\n"
     ]
    }
   ],
   "source": [
    "# Floyd's Triangle\n",
    "\n",
    "rows = int(input(\"Enter number of rows for Floyd's triangle: \"))\n",
    "k = 1\n",
    "for i in range(rows):\n",
    "    for j in range(i+1):\n",
    "        print(k, end = \" \")\n",
    "        k += 1\n",
    "    print(\"\\n\")\n",
    "       "
   ]
  },
  {
   "cell_type": "code",
   "execution_count": 44,
   "metadata": {},
   "outputs": [
    {
     "name": "stdout",
     "output_type": "stream",
     "text": [
      "Enter no. of rows for inverted full pyramid: 7\n",
      "* * * * * * * * * * * * * \n",
      "  * * * * * * * * * * * \n",
      "    * * * * * * * * * \n",
      "      * * * * * * * \n",
      "        * * * * * \n",
      "          * * * \n",
      "            * \n"
     ]
    }
   ],
   "source": [
    "# Inverted full pyramid of *\n",
    "\n",
    "rows = int(input(\"Enter no. of rows for inverted full pyramid: \"))\n",
    "\n",
    "for i in range(rows,0,-1):\n",
    "    for j in range(rows - i):\n",
    "        print(end = \"  \")\n",
    "    \n",
    "    for k in range(2*i-1):\n",
    "        print(\"*\", end=\" \")\n",
    "    \n",
    "    print()"
   ]
  },
  {
   "cell_type": "code",
   "execution_count": 1,
   "metadata": {},
   "outputs": [
    {
     "name": "stdout",
     "output_type": "stream",
     "text": [
      "Enter number of rows: 6\n",
      "\n",
      "\t\t\t\t*** PASCAL TRIANGLE ***\n",
      "\n",
      "                                         1\n",
      "                                      1     1\n",
      "                                   1     2     1\n",
      "                                1     3     3     1\n",
      "                             1     4     6     4     1\n",
      "                          1     5    10    10     5     1\n"
     ]
    }
   ],
   "source": [
    "# *** PASCAL TRIANGLE ***\n",
    "row = int(input(\"Enter number of rows: \"))\n",
    "\n",
    "space = 36\n",
    "\n",
    "# empty list containg all 0s\n",
    "a = [0] * 20 \n",
    "\n",
    "\n",
    "print(\"\\n\\t\\t\\t\\t*** PASCAL TRIANGLE ***\\n\")\n",
    "for i in range(row):\n",
    "    \n",
    "    for spi in range(1,space+1):\n",
    "        print(\" \", end=\"\")\n",
    "    \n",
    "    a[i] = 1\n",
    "    \n",
    "    for j in range(i+1):\n",
    "        print('%6d' %(a[j]), end = \"\")\n",
    "    \n",
    "    for j in range(i,0,-1):\n",
    "        a[j] = a[j] + a[j-1]\n",
    "    \n",
    "    space = space - 3\n",
    "    \n",
    "    print()"
   ]
  },
  {
   "cell_type": "code",
   "execution_count": 12,
   "metadata": {},
   "outputs": [
    {
     "name": "stdout",
     "output_type": "stream",
     "text": [
      "[1, 2, 3, 4, 'check', 'a', 'b', 5, 'c', 'himanshu']\n"
     ]
    }
   ],
   "source": [
    "# Python Program to Make a Flattened List from Nested List\n",
    "\n",
    "nested_list = [1,[2,3,4],['check'],['a','b'],5,'c','himanshu']\n",
    "\n",
    "flat_list = []\n",
    "\n",
    "for item in nested_list:\n",
    "    if type(item) == list:\n",
    "        for value in item:\n",
    "            flat_list.append(value)\n",
    "    else:\n",
    "        flat_list.append(item)\n",
    "\n",
    "print(flat_list)\n",
    "            \n",
    "    \n"
   ]
  },
  {
   "cell_type": "code",
   "execution_count": 26,
   "metadata": {},
   "outputs": [
    {
     "data": {
      "text/plain": [
       "[1, 2, 3, 4, 5, 6, 7]"
      ]
     },
     "execution_count": 26,
     "metadata": {},
     "output_type": "execute_result"
    }
   ],
   "source": [
    " # Python Program to Make a Flattened List from Nested List Using List Comprehension\n",
    "\n",
    "nested_list = [[1], [2, 3], [4, 5, 6, 7]]\n",
    "\n",
    "flat_list = [x for sublist in nested_list for x in sublist ]\n",
    "\n",
    "flat_list \n",
    "\n"
   ]
  },
  {
   "cell_type": "code",
   "execution_count": 32,
   "metadata": {},
   "outputs": [
    {
     "data": {
      "text/plain": [
       "[1, 2, 3, 4, 5, 6, 7]"
      ]
     },
     "execution_count": 32,
     "metadata": {},
     "output_type": "execute_result"
    }
   ],
   "source": [
    "# Python Program to Make a Flattened List from Nested List using sum()\n",
    "\n",
    "nested_list = [[1], [2, 3], [4, 5, 6, 7]]\n",
    "\n",
    "flat_list = sum(nested_list,[])\n",
    "\n",
    "flat_list"
   ]
  },
  {
   "cell_type": "code",
   "execution_count": 91,
   "metadata": {},
   "outputs": [
    {
     "data": {
      "text/plain": [
       "[1, [2, 3, 4], ['check'], ['a', 'b'], 'c', 'himanshu']"
      ]
     },
     "execution_count": 91,
     "metadata": {},
     "output_type": "execute_result"
    }
   ],
   "source": [
    "# Python Program to Differentiate Between del, remove, and pop on a List\n",
    "\n",
    "nested_list1 = [1,[2,3,4],['check'],['a','b'],5,'c','himanshu']\n",
    "\n",
    "nested_list1.remove(5)\n",
    "\n",
    "nested_list1\n",
    "\n"
   ]
  },
  {
   "cell_type": "code",
   "execution_count": 68,
   "metadata": {},
   "outputs": [
    {
     "data": {
      "text/plain": [
       "'himanshu'"
      ]
     },
     "execution_count": 68,
     "metadata": {},
     "output_type": "execute_result"
    }
   ],
   "source": [
    "# Python Program to Differentiate Between del, remove, and pop on a List\n",
    "\n",
    "nested_list2 = [1,[2,3,4],['check'],['a','b'],5,'c','himanshu']\n",
    "\n",
    "nested_list2.pop()\n",
    "\n"
   ]
  },
  {
   "cell_type": "code",
   "execution_count": 87,
   "metadata": {},
   "outputs": [],
   "source": [
    "# Python Program to Differentiate Between del, remove, and pop on a List\n",
    "\n",
    "nested_list3 = [1,[2,3,4],['check'],['a','b'],5,'c','himanshu']\n",
    "del nested_list3\n",
    "\n",
    "\n"
   ]
  },
  {
   "cell_type": "code",
   "execution_count": 88,
   "metadata": {},
   "outputs": [
    {
     "ename": "NameError",
     "evalue": "name 'nested_list3' is not defined",
     "output_type": "error",
     "traceback": [
      "\u001b[1;31m---------------------------------------------------------------------------\u001b[0m",
      "\u001b[1;31mNameError\u001b[0m                                 Traceback (most recent call last)",
      "\u001b[1;32m<ipython-input-88-73b7cdbd3a5e>\u001b[0m in \u001b[0;36m<module>\u001b[1;34m\u001b[0m\n\u001b[1;32m----> 1\u001b[1;33m \u001b[0mnested_list3\u001b[0m\u001b[1;33m\u001b[0m\u001b[1;33m\u001b[0m\u001b[0m\n\u001b[0m",
      "\u001b[1;31mNameError\u001b[0m: name 'nested_list3' is not defined"
     ]
    }
   ],
   "source": [
    "nested_list3"
   ]
  },
  {
   "cell_type": "code",
   "execution_count": 95,
   "metadata": {},
   "outputs": [
    {
     "data": {
      "text/plain": [
       "[array(['1', '2'], dtype='<U11'),\n",
       " array(['3', '4'], dtype='<U11'),\n",
       " array(['5', '6'], dtype='<U11'),\n",
       " array(['7', '8'], dtype='<U11'),\n",
       " array(['9', 'a'], dtype='<U11')]"
      ]
     },
     "execution_count": 95,
     "metadata": {},
     "output_type": "execute_result"
    }
   ],
   "source": [
    "# Python Program to Split a List Into Evenly Sized Chunks\n",
    "# [[1, 2], [3, 4], [5, 6], [7, 8], [9]]\n",
    "\n",
    "import numpy as np\n",
    "\n",
    "lst = [1,2,3,4,5,6,7,8,9,'a']\n",
    "\n",
    "np.array_split(lst, 5)\n"
   ]
  },
  {
   "cell_type": "code",
   "execution_count": 100,
   "metadata": {},
   "outputs": [
    {
     "name": "stdout",
     "output_type": "stream",
     "text": [
      "[[1, 2], [3, 4], [5, 6], [7, 8], [9]]\n"
     ]
    }
   ],
   "source": [
    "# Python Program to Split a List Into Evenly Sized Chunks \n",
    "\n",
    "my_list = [1,2,3,4,5,6,7,8,9]\n",
    "chunk_size = 2\n",
    "list_chunked = [my_list[i:i + chunk_size] for i in range(0, len(my_list), chunk_size)]\n",
    "print(list_chunked)"
   ]
  },
  {
   "cell_type": "code",
   "execution_count": 9,
   "metadata": {},
   "outputs": [
    {
     "name": "stdout",
     "output_type": "stream",
     "text": [
      "[[1, 2], [3, 4], [5, 6], [7, 8], [9]]\n"
     ]
    }
   ],
   "source": [
    "# Python Program to Split a List Into Evenly Sized Chunks using yield\n",
    "\n",
    "def split(lst,chunk):\n",
    "    for i in range(0, len(lst), chunk):\n",
    "        yield lst[i: i + chunk]\n",
    "\n",
    "chunk_size = 2\n",
    "my_lst = [1,2,3,4,5,6,7,8,9]\n",
    "\n",
    "print(list(split(my_lst,chunk_size)))\n"
   ]
  },
  {
   "cell_type": "code",
   "execution_count": 61,
   "metadata": {},
   "outputs": [
    {
     "name": "stdout",
     "output_type": "stream",
     "text": [
      "Enter words: Program to Sort Words in Alphabetic Order\n",
      "Sorted words are: \n",
      "alphabetic  in  order  program  sort  to  words  "
     ]
    }
   ],
   "source": [
    "# Python Program to Sort Words in Alphabetic Order\n",
    "\n",
    "my_str =input(\"Enter words: \")\n",
    "\n",
    "lst = my_str.split(\" \")\n",
    "new_list = []\n",
    "\n",
    "for item in lst:    \n",
    "    new_list.append(item.lower())\n",
    "\n",
    "new_list.sort()\n",
    "\n",
    "print(\"Sorted words are: \")\n",
    "\n",
    "for item in new_list:\n",
    "    print(item, end = \"  \")"
   ]
  },
  {
   "cell_type": "code",
   "execution_count": 2,
   "metadata": {},
   "outputs": [
    {
     "name": "stdout",
     "output_type": "stream",
     "text": [
      "Enter words: my name is lakhan\n",
      "Sorted words are\n",
      "is  lakhan  my  name  "
     ]
    }
   ],
   "source": [
    "# Python Program to Sort Words in Alphabetic Order\n",
    "\n",
    "my_str_input =input(\"Enter words: \")\n",
    "\n",
    "lst = my_str_input.split(\" \")\n",
    "new_list = []\n",
    "\n",
    "for item in lst:    \n",
    "    new_list.append(item.lower())\n",
    "\n",
    "word = sorted(new_list)\n",
    "\n",
    "print(\"Sorted words are\")\n",
    "\n",
    "for item in word:\n",
    "    print(item, end = \"  \")"
   ]
  },
  {
   "cell_type": "code",
   "execution_count": null,
   "metadata": {},
   "outputs": [],
   "source": []
  },
  {
   "cell_type": "code",
   "execution_count": null,
   "metadata": {},
   "outputs": [],
   "source": []
  }
 ],
 "metadata": {
  "kernelspec": {
   "display_name": "Python 3",
   "language": "python",
   "name": "python3"
  },
  "language_info": {
   "codemirror_mode": {
    "name": "ipython",
    "version": 3
   },
   "file_extension": ".py",
   "mimetype": "text/x-python",
   "name": "python",
   "nbconvert_exporter": "python",
   "pygments_lexer": "ipython3",
   "version": "3.7.6"
  }
 },
 "nbformat": 4,
 "nbformat_minor": 4
}
